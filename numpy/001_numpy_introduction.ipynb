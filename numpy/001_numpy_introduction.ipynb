{
 "cells": [
  {
   "cell_type": "code",
   "execution_count": 1,
   "id": "30678b9e",
   "metadata": {},
   "outputs": [],
   "source": [
    "import numpy as np"
   ]
  },
  {
   "cell_type": "code",
   "execution_count": 2,
   "id": "eb40c962",
   "metadata": {},
   "outputs": [
    {
     "data": {
      "text/plain": [
       "numpy.ndarray"
      ]
     },
     "execution_count": 2,
     "metadata": {},
     "output_type": "execute_result"
    }
   ],
   "source": [
    "arr1 = np.array([1, 2, 3])\n",
    "type(arr1)"
   ]
  },
  {
   "cell_type": "code",
   "execution_count": 3,
   "id": "b8efcdb7",
   "metadata": {},
   "outputs": [
    {
     "data": {
      "text/plain": [
       "array([1, 2, 3])"
      ]
     },
     "execution_count": 3,
     "metadata": {},
     "output_type": "execute_result"
    }
   ],
   "source": [
    "arr1"
   ]
  },
  {
   "cell_type": "code",
   "execution_count": 4,
   "id": "510e4bcb",
   "metadata": {},
   "outputs": [
    {
     "name": "stdout",
     "output_type": "stream",
     "text": [
      "[[1 2 3]\n",
      " [4 5 6]\n",
      " [7 8 9]]\n"
     ]
    }
   ],
   "source": [
    "arr2 = np.array([[1, 2, 3],\n",
    "                 [4, 5, 6],\n",
    "                 [7, 8, 9]])\n",
    "print(arr2)"
   ]
  },
  {
   "cell_type": "code",
   "execution_count": 5,
   "id": "757a4a4d",
   "metadata": {},
   "outputs": [
    {
     "name": "stdout",
     "output_type": "stream",
     "text": [
      "[1 2 3 4 5]\n"
     ]
    }
   ],
   "source": [
    "arr3 = np.array((1, 2, 3, 4, 5))\n",
    "print(arr3)"
   ]
  },
  {
   "cell_type": "code",
   "execution_count": 6,
   "id": "1a927797",
   "metadata": {},
   "outputs": [
    {
     "name": "stdout",
     "output_type": "stream",
     "text": [
      "[1 2 3]\n",
      "(3,)\n",
      "1\n",
      "3\n",
      "int64\n"
     ]
    }
   ],
   "source": [
    "print(arr1)\n",
    "print(arr1.shape)\n",
    "print(arr1.ndim)\n",
    "print(arr1.size)\n",
    "print(arr1.dtype)"
   ]
  },
  {
   "cell_type": "code",
   "execution_count": 7,
   "id": "010c7841",
   "metadata": {},
   "outputs": [
    {
     "name": "stdout",
     "output_type": "stream",
     "text": [
      "[[1 2 3]\n",
      " [4 5 6]\n",
      " [7 8 9]]\n",
      "(3, 3)\n",
      "2\n",
      "9\n",
      "int64\n"
     ]
    }
   ],
   "source": [
    "print(arr2)\n",
    "print(arr2.shape)\n",
    "print(arr2.ndim)\n",
    "print(arr2.size)\n",
    "print(arr2.dtype)"
   ]
  },
  {
   "cell_type": "code",
   "execution_count": 10,
   "id": "68ff12d3",
   "metadata": {},
   "outputs": [
    {
     "name": "stdout",
     "output_type": "stream",
     "text": [
      "[[0 0 0]\n",
      " [0 0 0]]\n"
     ]
    }
   ],
   "source": [
    "arrZ = np.zeros((2, 3), dtype=int) # Zeros array with 2 rows and 3 columns\n",
    "print(arrZ)"
   ]
  },
  {
   "cell_type": "code",
   "execution_count": 12,
   "id": "8db503d3",
   "metadata": {},
   "outputs": [
    {
     "name": "stdout",
     "output_type": "stream",
     "text": [
      "[[1. 1. 1. 1.]\n",
      " [1. 1. 1. 1.]\n",
      " [1. 1. 1. 1.]]\n"
     ]
    }
   ],
   "source": [
    "arrO = np.ones((3, 4)) # Ones array with 3 rows and 4 columns\n",
    "print(arrO)"
   ]
  },
  {
   "cell_type": "code",
   "execution_count": 13,
   "id": "4ecdf3f1",
   "metadata": {},
   "outputs": [
    {
     "name": "stdout",
     "output_type": "stream",
     "text": [
      "[[7 7 7 7 7 7 7 7]\n",
      " [7 7 7 7 7 7 7 7]\n",
      " [7 7 7 7 7 7 7 7]]\n"
     ]
    }
   ],
   "source": [
    "arrC = np.full((3, 8), 7, dtype=int)\n",
    "print(arrC)"
   ]
  },
  {
   "cell_type": "code",
   "execution_count": 14,
   "id": "d0f75be1",
   "metadata": {},
   "outputs": [
    {
     "name": "stdout",
     "output_type": "stream",
     "text": [
      "[[1 0 0]\n",
      " [0 1 0]\n",
      " [0 0 1]]\n"
     ]
    }
   ],
   "source": [
    "arrI = np.eye(3, dtype=int) # Identity matrix 3x3\n",
    "print(arrI)"
   ]
  },
  {
   "cell_type": "code",
   "execution_count": 15,
   "id": "12452099",
   "metadata": {},
   "outputs": [
    {
     "name": "stdout",
     "output_type": "stream",
     "text": [
      "[0 1 2 3 4 5]\n"
     ]
    }
   ],
   "source": [
    "arr_0_5 = np.arange(6)  # Array with values 0 to 5\n",
    "print(arr_0_5)"
   ]
  },
  {
   "cell_type": "code",
   "execution_count": null,
   "id": "2d2e6f9b",
   "metadata": {},
   "outputs": [
    {
     "name": "stdout",
     "output_type": "stream",
     "text": [
      "[1 3 5 7 9]\n"
     ]
    }
   ],
   "source": [
    "arr_1_9 = np.arange(1, 10, 2) # array wth elements 1, 3, 5, 7, 9\n",
    "print(arr_1_9)"
   ]
  },
  {
   "cell_type": "code",
   "execution_count": 17,
   "id": "d945279f",
   "metadata": {},
   "outputs": [
    {
     "name": "stdout",
     "output_type": "stream",
     "text": [
      "[0.   0.25 0.5  0.75 1.  ]\n"
     ]
    }
   ],
   "source": [
    "arr_0_1 = np.linspace(0, 1, 5)\n",
    "print(arr_0_1)"
   ]
  },
  {
   "cell_type": "code",
   "execution_count": 18,
   "id": "af01084c",
   "metadata": {},
   "outputs": [
    {
     "name": "stdout",
     "output_type": "stream",
     "text": [
      "[1.         1.46153846 1.92307692 2.38461538 2.84615385 3.30769231\n",
      " 3.76923077 4.23076923 4.69230769 5.15384615 5.61538462 6.07692308\n",
      " 6.53846154 7.        ]\n"
     ]
    }
   ],
   "source": [
    "arr_1_7 = np.linspace(1, 7, 14)\n",
    "print(arr_1_7)"
   ]
  },
  {
   "cell_type": "code",
   "execution_count": 21,
   "id": "8f5fba48",
   "metadata": {},
   "outputs": [
    {
     "name": "stdout",
     "output_type": "stream",
     "text": [
      "[[0.53208815 0.47814513 0.07613123]\n",
      " [0.81618804 0.61032849 0.08576348]]\n"
     ]
    }
   ],
   "source": [
    "arr_0_and_1 = np.random.rand(2, 3)\n",
    "print(arr_0_and_1)"
   ]
  },
  {
   "cell_type": "code",
   "execution_count": 22,
   "id": "50fe8623",
   "metadata": {},
   "outputs": [
    {
     "name": "stdout",
     "output_type": "stream",
     "text": [
      "[[ 0.02381222  2.21513718  0.89731235]\n",
      " [-0.88890486  1.25318635 -0.0151971 ]]\n"
     ]
    }
   ],
   "source": [
    "arrND = np.random.randn(2, 3)\n",
    "print(arrND)"
   ]
  },
  {
   "cell_type": "code",
   "execution_count": 23,
   "id": "3feb517c",
   "metadata": {},
   "outputs": [
    {
     "name": "stdout",
     "output_type": "stream",
     "text": [
      "[[4 8 0]\n",
      " [0 7 9]]\n"
     ]
    }
   ],
   "source": [
    "arrRN = np.random.randint(0, 10, (2, 3))\n",
    "print(arrRN)"
   ]
  },
  {
   "cell_type": "code",
   "execution_count": 24,
   "id": "0357d92b",
   "metadata": {},
   "outputs": [
    {
     "name": "stdout",
     "output_type": "stream",
     "text": [
      "[1 3 5 7]\n"
     ]
    }
   ],
   "source": [
    "arrDT = np.array([1.2, 3.4, 5.6, 7.8])\n",
    "arrDT_int = arrDT.astype(int)\n",
    "print(arrDT_int)"
   ]
  }
 ],
 "metadata": {
  "kernelspec": {
   "display_name": "venv",
   "language": "python",
   "name": "python3"
  },
  "language_info": {
   "codemirror_mode": {
    "name": "ipython",
    "version": 3
   },
   "file_extension": ".py",
   "mimetype": "text/x-python",
   "name": "python",
   "nbconvert_exporter": "python",
   "pygments_lexer": "ipython3",
   "version": "3.10.11"
  }
 },
 "nbformat": 4,
 "nbformat_minor": 5
}
