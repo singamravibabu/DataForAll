{
 "cells": [
  {
   "cell_type": "markdown",
   "id": "960bee62",
   "metadata": {},
   "source": [
    "# Advanced Indexing, Sorting & Stacking"
   ]
  },
  {
   "cell_type": "markdown",
   "id": "e17da715",
   "metadata": {},
   "source": [
    "## 1. Conditional Selection (where)"
   ]
  },
  {
   "cell_type": "code",
   "execution_count": 2,
   "id": "81a5e005",
   "metadata": {},
   "outputs": [],
   "source": [
    "import numpy as np"
   ]
  },
  {
   "cell_type": "code",
   "execution_count": 3,
   "id": "f461aab5",
   "metadata": {},
   "outputs": [],
   "source": [
    "arr = np.array([10, 20, 30, 40])"
   ]
  },
  {
   "cell_type": "code",
   "execution_count": 4,
   "id": "408ce381",
   "metadata": {},
   "outputs": [
    {
     "data": {
      "text/plain": [
       "array([0, 0, 1, 1])"
      ]
     },
     "execution_count": 4,
     "metadata": {},
     "output_type": "execute_result"
    }
   ],
   "source": [
    "result = np.where(arr > 25, 1, 0)\n",
    "result"
   ]
  },
  {
   "cell_type": "markdown",
   "id": "9429fee7",
   "metadata": {},
   "source": [
    "## 2. Extract Non-zero Elements"
   ]
  },
  {
   "cell_type": "code",
   "execution_count": 5,
   "id": "14121ed0",
   "metadata": {},
   "outputs": [
    {
     "name": "stdout",
     "output_type": "stream",
     "text": [
      "(array([1, 3, 4]),)\n",
      "[2 4 5]\n"
     ]
    }
   ],
   "source": [
    "arr = np.array([0, 2, 0, 4, 5])\n",
    "indices = np.nonzero(arr)\n",
    "print(indices)\n",
    "print(arr[indices])"
   ]
  },
  {
   "cell_type": "markdown",
   "id": "1f8add54",
   "metadata": {},
   "source": [
    "## Sorting Arrays"
   ]
  },
  {
   "cell_type": "code",
   "execution_count": 6,
   "id": "eb957517",
   "metadata": {},
   "outputs": [
    {
     "data": {
      "text/plain": [
       "array([1, 2, 3])"
      ]
     },
     "execution_count": 6,
     "metadata": {},
     "output_type": "execute_result"
    }
   ],
   "source": [
    "arr = np.array([3, 1, 2])\n",
    "np.sort(arr)"
   ]
  },
  {
   "cell_type": "code",
   "execution_count": 7,
   "id": "487fde2c",
   "metadata": {},
   "outputs": [
    {
     "data": {
      "text/plain": [
       "array([[1, 2, 3],\n",
       "       [7, 8, 9]])"
      ]
     },
     "execution_count": 7,
     "metadata": {},
     "output_type": "execute_result"
    }
   ],
   "source": [
    "arr2d = np.array([[3, 1, 2],\n",
    "                [9, 8, 7]])\n",
    "np.sort(arr2d, axis=1)"
   ]
  },
  {
   "cell_type": "code",
   "execution_count": 8,
   "id": "3b4fe9c8",
   "metadata": {},
   "outputs": [
    {
     "data": {
      "text/plain": [
       "array([1, 2, 0])"
      ]
     },
     "execution_count": 8,
     "metadata": {},
     "output_type": "execute_result"
    }
   ],
   "source": [
    "arr = np.array([3, 1, 2])\n",
    "np.argsort(arr)"
   ]
  },
  {
   "cell_type": "markdown",
   "id": "3d6a8ebb",
   "metadata": {},
   "source": [
    "## 4. Stacking Arrays"
   ]
  },
  {
   "cell_type": "code",
   "execution_count": 9,
   "id": "7be9ab37",
   "metadata": {},
   "outputs": [
    {
     "data": {
      "text/plain": [
       "array([[1, 2, 3],\n",
       "       [4, 5, 6]])"
      ]
     },
     "execution_count": 9,
     "metadata": {},
     "output_type": "execute_result"
    }
   ],
   "source": [
    "a = np.array([1, 2, 3])\n",
    "b = np.array([4, 5, 6])\n",
    "np.vstack((a, b))"
   ]
  },
  {
   "cell_type": "code",
   "execution_count": 10,
   "id": "dfc85c46",
   "metadata": {},
   "outputs": [
    {
     "data": {
      "text/plain": [
       "array([1, 2, 3, 4, 5, 6])"
      ]
     },
     "execution_count": 10,
     "metadata": {},
     "output_type": "execute_result"
    }
   ],
   "source": [
    "np.hstack((a, b))"
   ]
  },
  {
   "cell_type": "code",
   "execution_count": 11,
   "id": "a241f1d0",
   "metadata": {},
   "outputs": [
    {
     "data": {
      "text/plain": [
       "array([[1, 4],\n",
       "       [2, 5],\n",
       "       [3, 6]])"
      ]
     },
     "execution_count": 11,
     "metadata": {},
     "output_type": "execute_result"
    }
   ],
   "source": [
    "np.column_stack((a, b))"
   ]
  }
 ],
 "metadata": {
  "kernelspec": {
   "display_name": "venv",
   "language": "python",
   "name": "python3"
  },
  "language_info": {
   "codemirror_mode": {
    "name": "ipython",
    "version": 3
   },
   "file_extension": ".py",
   "mimetype": "text/x-python",
   "name": "python",
   "nbconvert_exporter": "python",
   "pygments_lexer": "ipython3",
   "version": "3.10.11"
  }
 },
 "nbformat": 4,
 "nbformat_minor": 5
}
